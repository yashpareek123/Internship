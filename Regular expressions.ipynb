{
 "cells": [
  {
   "cell_type": "code",
   "execution_count": 1,
   "id": "fc6b5df6",
   "metadata": {},
   "outputs": [
    {
     "name": "stdout",
     "output_type": "stream",
     "text": [
      "Python:Exercises:PHP:exercises:\n"
     ]
    }
   ],
   "source": [
    "#Q1#########\n",
    "import re\n",
    "text='Python Exercises,PHP exercises.'\n",
    "output=re.sub(\"[ ,.]\",\":\",text)\n",
    "print(output)"
   ]
  },
  {
   "cell_type": "code",
   "execution_count": 35,
   "id": "ab71c717",
   "metadata": {},
   "outputs": [],
   "source": [
    "#Q2###########\n",
    "import pandas as pd\n",
    "data={'SUMMARY' : ['hello, world!', 'XXXXX test', '123four, five:; six...']}"
   ]
  },
  {
   "cell_type": "code",
   "execution_count": 67,
   "id": "d909d3ad",
   "metadata": {},
   "outputs": [],
   "source": [
    "def remove(data):\n",
    "    remove_data=re.sub('[,.!;:|XXXXX|\\d]',' ',data)\n",
    "    return remove_data"
   ]
  },
  {
   "cell_type": "code",
   "execution_count": 68,
   "id": "695bf0b3",
   "metadata": {},
   "outputs": [],
   "source": [
    "df=pd.DataFrame(data)\n"
   ]
  },
  {
   "cell_type": "code",
   "execution_count": 69,
   "id": "13a29e02",
   "metadata": {},
   "outputs": [],
   "source": [
    "df['SUMMARY']=df['SUMMARY'].apply(remove)"
   ]
  },
  {
   "cell_type": "code",
   "execution_count": 70,
   "id": "c38ad5a4",
   "metadata": {},
   "outputs": [
    {
     "data": {
      "text/html": [
       "<div>\n",
       "<style scoped>\n",
       "    .dataframe tbody tr th:only-of-type {\n",
       "        vertical-align: middle;\n",
       "    }\n",
       "\n",
       "    .dataframe tbody tr th {\n",
       "        vertical-align: top;\n",
       "    }\n",
       "\n",
       "    .dataframe thead th {\n",
       "        text-align: right;\n",
       "    }\n",
       "</style>\n",
       "<table border=\"1\" class=\"dataframe\">\n",
       "  <thead>\n",
       "    <tr style=\"text-align: right;\">\n",
       "      <th></th>\n",
       "      <th>SUMMARY</th>\n",
       "    </tr>\n",
       "  </thead>\n",
       "  <tbody>\n",
       "    <tr>\n",
       "      <th>0</th>\n",
       "      <td>hello  world</td>\n",
       "    </tr>\n",
       "    <tr>\n",
       "      <th>1</th>\n",
       "      <td>test</td>\n",
       "    </tr>\n",
       "    <tr>\n",
       "      <th>2</th>\n",
       "      <td>four  five   six</td>\n",
       "    </tr>\n",
       "  </tbody>\n",
       "</table>\n",
       "</div>"
      ],
      "text/plain": [
       "                  SUMMARY\n",
       "0           hello  world \n",
       "1                    test\n",
       "2     four  five   six   "
      ]
     },
     "execution_count": 70,
     "metadata": {},
     "output_type": "execute_result"
    }
   ],
   "source": [
    "df"
   ]
  },
  {
   "cell_type": "code",
   "execution_count": 78,
   "id": "61b3e02a",
   "metadata": {},
   "outputs": [],
   "source": [
    "#Q3#############\n",
    "def find_out(data):\n",
    "    pattern=re.compile(r'\\w{4}')\n",
    "    word=pattern.findall(data)\n",
    "    return word"
   ]
  },
  {
   "cell_type": "code",
   "execution_count": 79,
   "id": "7efb0be2",
   "metadata": {},
   "outputs": [],
   "source": [
    "data=\"My Name is yash pareek and i live in delhi\""
   ]
  },
  {
   "cell_type": "code",
   "execution_count": 80,
   "id": "66026943",
   "metadata": {},
   "outputs": [
    {
     "data": {
      "text/plain": [
       "['Name', 'yash', 'pare', 'live', 'delh']"
      ]
     },
     "execution_count": 80,
     "metadata": {},
     "output_type": "execute_result"
    }
   ],
   "source": [
    "find_out(data)"
   ]
  },
  {
   "cell_type": "code",
   "execution_count": 93,
   "id": "5730c2b3",
   "metadata": {},
   "outputs": [],
   "source": [
    "#Q4############\n",
    "def find(data1):\n",
    "    pattern=re.compile(r'\\b\\w{3,5}\\b')\n",
    "    word=pattern.findall(data1)\n",
    "    return word"
   ]
  },
  {
   "cell_type": "code",
   "execution_count": 94,
   "id": "420026aa",
   "metadata": {},
   "outputs": [],
   "source": [
    "data1=\"This is sample string given by me and now i am goind to check it\""
   ]
  },
  {
   "cell_type": "code",
   "execution_count": 95,
   "id": "418a0177",
   "metadata": {},
   "outputs": [
    {
     "data": {
      "text/plain": [
       "['This', 'given', 'and', 'now', 'goind', 'check']"
      ]
     },
     "execution_count": 95,
     "metadata": {},
     "output_type": "execute_result"
    }
   ],
   "source": [
    "find(data1)"
   ]
  },
  {
   "cell_type": "code",
   "execution_count": 39,
   "id": "ce6b5856",
   "metadata": {},
   "outputs": [
    {
     "name": "stdout",
     "output_type": "stream",
     "text": [
      "['example .com', 'hr@fliprobo .com', 'github .com', 'Hello Data Science World', 'Data Scientist']\n"
     ]
    }
   ],
   "source": [
    "#Q5######\n",
    "def remove_parentheses(strings):\n",
    "    pattern = re.compile(r'[()]')  \n",
    "    result_strings = []\n",
    "    for string in strings:\n",
    "        \n",
    "        cleaned_str = re.sub(pattern, '', string)\n",
    "        result_strings.append(cleaned_str.strip())  \n",
    "    return result_strings\n",
    "\n",
    "\n",
    "sample_text = [\"example (.com)\", \"hr@fliprobo (.com)\", \"github (.com)\", \"Hello (Data Science World)\", \"Data (Scientist)\"]\n",
    "\n",
    "cleaned_str = remove_parentheses(sample_text)\n",
    "print(cleaned_str)\n",
    "\n"
   ]
  },
  {
   "cell_type": "code",
   "execution_count": null,
   "id": "03a0ca5c",
   "metadata": {},
   "outputs": [],
   "source": [
    "#Q6#######"
   ]
  },
  {
   "cell_type": "code",
   "execution_count": 188,
   "id": "33bd4969",
   "metadata": {},
   "outputs": [
    {
     "name": "stdout",
     "output_type": "stream",
     "text": [
      "['Importance', 'Of', 'Regular', 'Expressions', 'In', 'Python']\n"
     ]
    }
   ],
   "source": [
    "#7######\n",
    "sample_text = \"ImportanceOfRegularExpressionsInPython\"\n",
    "pattern = r'[A-Z][a-z]*'\n",
    "result = re.findall(pattern, sample_text)\n",
    "print(result)\n"
   ]
  },
  {
   "cell_type": "code",
   "execution_count": 203,
   "id": "54301bfe",
   "metadata": {},
   "outputs": [],
   "source": [
    "#Q8######\n",
    "sample1='RegularExpression1IsAn2ImportantTopic3InPython'"
   ]
  },
  {
   "cell_type": "code",
   "execution_count": 208,
   "id": "a0199329",
   "metadata": {},
   "outputs": [],
   "source": [
    "def insert_space(sample1):\n",
    "    result2=re.sub(r'[1,2,3]',\" \",sample1)\n",
    "    return result2"
   ]
  },
  {
   "cell_type": "code",
   "execution_count": 209,
   "id": "a00cab0a",
   "metadata": {},
   "outputs": [
    {
     "data": {
      "text/plain": [
       "'RegularExpression IsAn ImportantTopic InPython'"
      ]
     },
     "execution_count": 209,
     "metadata": {},
     "output_type": "execute_result"
    }
   ],
   "source": [
    "insert_space(sample1)"
   ]
  },
  {
   "cell_type": "code",
   "execution_count": 99,
   "id": "8a36d866",
   "metadata": {},
   "outputs": [],
   "source": [
    "#Q9######\n",
    "def insert_spaces(text):\n",
    "    pattern = r'(\\d+)([A-Za-z]+)'\n",
    "    result = re.sub(pattern, r'\\1 \\2', text)\n",
    "    return result\n",
    "  \n"
   ]
  },
  {
   "cell_type": "code",
   "execution_count": 100,
   "id": "a96a987e",
   "metadata": {},
   "outputs": [
    {
     "name": "stdout",
     "output_type": "stream",
     "text": [
      "RegularExpression1 IsAn2 ImportantTopic3 InPython\n"
     ]
    }
   ],
   "source": [
    "text=\"RegularExpression1IsAn2ImportantTopic3InPython\"\n",
    "output=insert_spaces(text)\n",
    "print(output)"
   ]
  },
  {
   "cell_type": "code",
   "execution_count": 252,
   "id": "a3cbcd96",
   "metadata": {},
   "outputs": [
    {
     "name": "stdout",
     "output_type": "stream",
     "text": [
      "       Country          Region  Happiness Rank  Happiness Score  \\\n",
      "0  Switzerland  Western Europe               1            7.587   \n",
      "1      Iceland  Western Europe               2            7.561   \n",
      "2      Denmark  Western Europe               3            7.527   \n",
      "3       Norway  Western Europe               4            7.522   \n",
      "4       Canada   North America               5            7.427   \n",
      "\n",
      "   Standard Error  Economy (GDP per Capita)   Family  \\\n",
      "0         0.03411                   1.39651  1.34951   \n",
      "1         0.04884                   1.30232  1.40223   \n",
      "2         0.03328                   1.32548  1.36058   \n",
      "3         0.03880                   1.45900  1.33095   \n",
      "4         0.03553                   1.32629  1.32261   \n",
      "\n",
      "   Health (Life Expectancy)  Freedom  Trust (Government Corruption)  \\\n",
      "0                   0.94143  0.66557                        0.41978   \n",
      "1                   0.94784  0.62877                        0.14145   \n",
      "2                   0.87464  0.64938                        0.48357   \n",
      "3                   0.88521  0.66973                        0.36503   \n",
      "4                   0.90563  0.63297                        0.32957   \n",
      "\n",
      "   Generosity  Dystopia Residual first_five_letters  \n",
      "0     0.29678            2.51738             Switze  \n",
      "1     0.43630            2.70201             Icelan  \n",
      "2     0.34139            2.49204             Denmar  \n",
      "3     0.34699            2.46531             Norway  \n",
      "4     0.45811            2.45176             Canada  \n"
     ]
    }
   ],
   "source": [
    "#Q10#####\n",
    "import pandas as pd\n",
    "data_link = \"https://raw.githubusercontent.com/dsrscientist/DSData/master/happiness_score_dataset.csv\"\n",
    "df = pd.read_csv(data_link)\n",
    "df['first_five_letters'] = df['Country'].str[:6]\n",
    "print(df.head())\n",
    "\n",
    "\n",
    "\n"
   ]
  },
  {
   "cell_type": "code",
   "execution_count": 11,
   "id": "989b63e6",
   "metadata": {},
   "outputs": [
    {
     "name": "stdout",
     "output_type": "stream",
     "text": [
      "True\n",
      "False\n",
      "True\n"
     ]
    }
   ],
   "source": [
    "#Q11#########\n",
    "def is_valid_string(input_string):\n",
    "    pattern = r'^[a-zA-Z0-9_]+$'\n",
    "    \n",
    "    \n",
    "    if re.match(pattern, input_string):\n",
    "        return True\n",
    "    else:\n",
    "        return False\n",
    "\n",
    "input_string1 = \"Yash_Pareek123\"\n",
    "input_string2 = \"Pubg_lover!\"\n",
    "input_string3 = \"Python_learner456\"\n",
    "\n",
    "print(is_valid_string(input_string1)) \n",
    "print(is_valid_string(input_string2)) \n",
    "print(is_valid_string(input_string3)) \n"
   ]
  },
  {
   "cell_type": "code",
   "execution_count": null,
   "id": "cb9b2743",
   "metadata": {},
   "outputs": [],
   "source": [
    "#Q12#########\n"
   ]
  },
  {
   "cell_type": "code",
   "execution_count": 13,
   "id": "617958e1",
   "metadata": {},
   "outputs": [
    {
     "name": "stdout",
     "output_type": "stream",
     "text": [
      "1 4.342. 9. 1\n"
     ]
    }
   ],
   "source": [
    "#13######\n",
    "ip_address=(\"104.342.09.01\")\n",
    "pattern=(r'[0]')\n",
    "output=re.sub(pattern,\" \",ip_address)\n",
    "print(output)"
   ]
  },
  {
   "cell_type": "code",
   "execution_count": 30,
   "id": "b58469b5",
   "metadata": {},
   "outputs": [],
   "source": [
    "#Q14#######\n"
   ]
  },
  {
   "cell_type": "code",
   "execution_count": 43,
   "id": "7b9f9c34",
   "metadata": {},
   "outputs": [
    {
     "name": "stdout",
     "output_type": "stream",
     "text": [
      "['fox', 'dog']\n"
     ]
    }
   ],
   "source": [
    "#Q15#####\n",
    "def search_words(text, words):\n",
    "    found_words = []\n",
    "    for word in words:\n",
    "        if word in text:\n",
    "            found_words.append(word)\n",
    "    return found_words\n",
    "\n",
    "sample_text = 'The quick brown fox jumps over the lazy dog.'\n",
    "searched_words = ['fox', 'dog', 'horse']\n",
    "\n",
    "found_words = search_words(sample_text, searched_words)\n",
    "\n",
    "print(found_words)"
   ]
  },
  {
   "cell_type": "code",
   "execution_count": 62,
   "id": "9f771109",
   "metadata": {},
   "outputs": [
    {
     "name": "stdout",
     "output_type": "stream",
     "text": [
      "Found \"fox\" in \"The quick brown fox jumps over the lazy dog.\" from 16 to 19 \n"
     ]
    }
   ],
   "source": [
    "#Q16#####\n",
    "pattern = 'fox'\n",
    "text = 'The quick brown fox jumps over the lazy dog.'\n",
    "match = re.search(pattern, text)\n",
    "y = match.start()\n",
    "t = match.end()\n",
    "print('Found \"%s\" in \"%s\" from %d to %d ' % \\\n",
    "    (match.re.pattern, text, y, t))"
   ]
  },
  {
   "cell_type": "code",
   "execution_count": 68,
   "id": "59e8cb4e",
   "metadata": {},
   "outputs": [
    {
     "name": "stdout",
     "output_type": "stream",
     "text": [
      "Found \"exercises\"\n",
      "Found \"exercises\"\n",
      "Found \"exercises\"\n"
     ]
    }
   ],
   "source": [
    "#Q17#########\n",
    "text = 'Python exercises, PHP exercises, C# exercises'\n",
    "pattern = 'exercises'\n",
    "for match in re.findall(pattern, text):\n",
    "    print('Found \"%s\"' % match)"
   ]
  },
  {
   "cell_type": "code",
   "execution_count": 67,
   "id": "426060a7",
   "metadata": {},
   "outputs": [
    {
     "name": "stdout",
     "output_type": "stream",
     "text": [
      "Found \"scientis\" at 39:47\n"
     ]
    }
   ],
   "source": [
    "#Q18#####\n",
    "text = 'My name is yash pareek amd i am a data scientis,'\n",
    "pattern = 'scientis'\n",
    "for match in re.finditer(pattern, text):\n",
    "    y = match.start()\n",
    "    t= match.end()\n",
    "    print('Found \"%s\" at %d:%d' % (text[y:t], y, t))"
   ]
  },
  {
   "cell_type": "code",
   "execution_count": 79,
   "id": "271df0fe",
   "metadata": {},
   "outputs": [
    {
     "name": "stdout",
     "output_type": "stream",
     "text": [
      "['01.12', '0132.12', '2.31', '145.8', '3.01', '27.25', '0.25']\n"
     ]
    }
   ],
   "source": [
    "#Q20######\n",
    "def find_decimal_numbers(string):\n",
    "    pattern = re.compile(r'\\d+\\.\\d{1,2}')\n",
    "    decimal_numbers = re.findall(pattern, string)\n",
    "    return decimal_numbers\n",
    "\n",
    "sample_text = \"01.12 0132.123 2.31875 145.8 3.01 27.25 0.25\"\n",
    "output = find_decimal_numbers(sample_text)\n",
    "print(output)"
   ]
  },
  {
   "cell_type": "code",
   "execution_count": 81,
   "id": "b822f6c6",
   "metadata": {},
   "outputs": [
    {
     "name": "stdout",
     "output_type": "stream",
     "text": [
      "150\n",
      "Index position: 30\n"
     ]
    }
   ],
   "source": [
    "#21######\n",
    "text = \"i love to go gym and i can do 150kg benchpress\"\n",
    "\n",
    "for n in re.finditer(\"\\d+\", text):\n",
    "    print(n.group(0))\n",
    "    print(\"Index position:\", n.start())"
   ]
  },
  {
   "cell_type": "code",
   "execution_count": 82,
   "id": "d42a9393",
   "metadata": {},
   "outputs": [
    {
     "ename": "SyntaxError",
     "evalue": "invalid syntax (3203543175.py, line 1)",
     "output_type": "error",
     "traceback": [
      "\u001b[1;36m  Cell \u001b[1;32mIn[82], line 1\u001b[1;36m\u001b[0m\n\u001b[1;33m    - Write a regular expression in python program to extract maximum/largest numeric value from a string.\u001b[0m\n\u001b[1;37m            ^\u001b[0m\n\u001b[1;31mSyntaxError\u001b[0m\u001b[1;31m:\u001b[0m invalid syntax\n"
     ]
    }
   ],
   "source": [
    "- Write a regular expression in python program to extract maximum/largest numeric value from a string.\n",
    "Sample Text: 'My marks in each semester are: 947, 896, 926, 524, 734, 950, 642'\n",
    "Expected Output: 950\n",
    "\n",
    "    "
   ]
  },
  {
   "cell_type": "code",
   "execution_count": 98,
   "id": "9aa632d1",
   "metadata": {},
   "outputs": [
    {
     "name": "stdout",
     "output_type": "stream",
     "text": [
      "950\n"
     ]
    }
   ],
   "source": [
    "#Q22######\n",
    "Sample_Text= 'My marks in each semester are: 947, 896, 926, 524, 734, 950, 642'\n",
    "find_value=re.findall(\"\\d+\",Sample_Text)\n",
    "find_value=[int(value)for value in find_value]\n",
    "max_value=max(find_value)\n",
    "print(max_value)\n",
    "    "
   ]
  },
  {
   "cell_type": "code",
   "execution_count": 134,
   "id": "b57c12df",
   "metadata": {},
   "outputs": [],
   "source": [
    "#Q23######\n",
    "\n",
    "def spaces(Text):\n",
    "    pattern = r'([A-Z][a-z]+)'\n",
    "    result = re.sub(pattern, r' \\1', Text)\n",
    "    return result\n"
   ]
  },
  {
   "cell_type": "code",
   "execution_count": 135,
   "id": "331d9cd9",
   "metadata": {},
   "outputs": [],
   "source": [
    "Text1=\"RegularExpressionIsAnImportantTopicInPython\""
   ]
  },
  {
   "cell_type": "code",
   "execution_count": 136,
   "id": "b3159f23",
   "metadata": {},
   "outputs": [
    {
     "data": {
      "text/plain": [
       "' Regular Expression Is An Important Topic In Python'"
      ]
     },
     "execution_count": 136,
     "metadata": {},
     "output_type": "execute_result"
    }
   ],
   "source": [
    "spaces(Text1)"
   ]
  },
  {
   "cell_type": "code",
   "execution_count": 169,
   "id": "188bb45c",
   "metadata": {},
   "outputs": [],
   "source": [
    "#Q24#######\n",
    "\n",
    "def one_upper(text):\n",
    "    pattern=(r'[A-Z]+[a-z]+$')\n",
    "    if re.findall(pattern,text):\n",
    "        return \"found a match\"\n",
    "    else:\n",
    "        print(\"not matched\")\n",
    "        \n",
    "    \n"
   ]
  },
  {
   "cell_type": "code",
   "execution_count": 170,
   "id": "0af6903a",
   "metadata": {},
   "outputs": [],
   "source": [
    "text2=\"Help\"\n",
    "text3=\"help\""
   ]
  },
  {
   "cell_type": "code",
   "execution_count": 171,
   "id": "9240a6df",
   "metadata": {},
   "outputs": [
    {
     "data": {
      "text/plain": [
       "'found a match'"
      ]
     },
     "execution_count": 171,
     "metadata": {},
     "output_type": "execute_result"
    }
   ],
   "source": [
    "one_upper(text2)\n"
   ]
  },
  {
   "cell_type": "code",
   "execution_count": 172,
   "id": "8a8cd790",
   "metadata": {},
   "outputs": [
    {
     "name": "stdout",
     "output_type": "stream",
     "text": [
      "not matched\n"
     ]
    }
   ],
   "source": [
    "one_upper(text3)"
   ]
  },
  {
   "cell_type": "code",
   "execution_count": null,
   "id": "d5b7fcbb",
   "metadata": {},
   "outputs": [],
   "source": [
    "#Q25#####\n",
    "Write a Python program to remove continuous duplicate words from Sentence using Regular Expression.\n",
    "Sample Text:\"Hello hello world world\"\n",
    "Expected Output: Hello hello world\n"
   ]
  },
  {
   "cell_type": "code",
   "execution_count": null,
   "id": "2a3244b9",
   "metadata": {},
   "outputs": [],
   "source": [
    "Sample_Text=\"Hello hello world world\""
   ]
  },
  {
   "cell_type": "code",
   "execution_count": 177,
   "id": "8d6f3f8e",
   "metadata": {},
   "outputs": [
    {
     "name": "stdout",
     "output_type": "stream",
     "text": [
      "Hello hello world\n"
     ]
    }
   ],
   "source": [
    "\n",
    "pattern=(r'\\b(\\w+)(\\s+\\1\\b)+')\n",
    "result=re.sub(pattern,r'\\1',Sample_Text)\n",
    "print(result)"
   ]
  },
  {
   "cell_type": "code",
   "execution_count": 4,
   "id": "8a2ad129",
   "metadata": {},
   "outputs": [
    {
     "name": "stdout",
     "output_type": "stream",
     "text": [
      "Enter a string: yash123\n",
      "correct input: String ends with an alphanumeric character.\n"
     ]
    }
   ],
   "source": [
    "#26######\n",
    "def check_input(input_str):\n",
    "    pattern = r'\\w'\n",
    "    if re.match(pattern, input_str):\n",
    "        print(\"correct input: string ends with an alphanumeric character.\")\n",
    "    else:\n",
    "        print(\"wrong input:string does not end with an alphanumeric character.\")\n",
    "user_input = input(\"Enter a string: \")\n",
    "check_input(user_input)"
   ]
  },
  {
   "cell_type": "code",
   "execution_count": 14,
   "id": "fe3e43a2",
   "metadata": {},
   "outputs": [],
   "source": [
    "#Q27########\n",
    "\n",
    "text4=( \"\"\"\"RT @kapil_kausik: #Doltiwal I mean #xyzabc is \"hurt\" by \n",
    "#Demonetization as the same has rendered USELESS <ed><U+00A0><U+00BD><ed><U+00B1><U+0089> \"acquired funds\" No wo\"\"\")"
   ]
  },
  {
   "cell_type": "code",
   "execution_count": 17,
   "id": "d5e00f3c",
   "metadata": {},
   "outputs": [],
   "source": [
    "def check_hashtag(text):\n",
    "    hashtag=re.findall(r'#\\w+',text4)\n",
    "    return hashtag\n",
    "hashtag=check_hashtag(text)"
   ]
  },
  {
   "cell_type": "code",
   "execution_count": 18,
   "id": "3f590659",
   "metadata": {},
   "outputs": [
    {
     "data": {
      "text/plain": [
       "['#Doltiwal', '#xyzabc', '#Demonetization']"
      ]
     },
     "execution_count": 18,
     "metadata": {},
     "output_type": "execute_result"
    }
   ],
   "source": [
    "hashtag"
   ]
  },
  {
   "cell_type": "code",
   "execution_count": 22,
   "id": "8fa9b01a",
   "metadata": {},
   "outputs": [],
   "source": [
    "#Q28#######\n",
    "data2 = \"@Jags123456 Bharat band on 28??<ed><U+00A0><U+00BD><ed><U+00B8><U+0082>Those who are protesting #demonetization are all different party leaders\""
   ]
  },
  {
   "cell_type": "code",
   "execution_count": 24,
   "id": "21753c95",
   "metadata": {},
   "outputs": [
    {
     "name": "stdout",
     "output_type": "stream",
     "text": [
      "@Jags123456 Bharat band on 28??<ed><ed>Those who are protesting #demonetization are all different party leaders\n"
     ]
    }
   ],
   "source": [
    "pattern=(r'<U\\+\\w{4}>')\n",
    "result=re.sub(pattern,\"\",data2)\n",
    "print(result)"
   ]
  },
  {
   "cell_type": "code",
   "execution_count": null,
   "id": "2117434e",
   "metadata": {},
   "outputs": [],
   "source": [
    "#Q29#######\n"
   ]
  },
  {
   "cell_type": "code",
   "execution_count": 35,
   "id": "3293c900",
   "metadata": {},
   "outputs": [],
   "source": [
    "#Q30######\n",
    "def remove_len(text):\n",
    "    pattern=re.compile(r'\\b\\w{2,4}\\b')\n",
    "    lenth=re.sub(pattern,\"\",text5)\n",
    "    return lenth"
   ]
  },
  {
   "cell_type": "code",
   "execution_count": 36,
   "id": "151997c2",
   "metadata": {},
   "outputs": [],
   "source": [
    "text5=\"The following example creates an ArrayList with a capacity of 50 elements. 4 elements are then added to the ArrayList and the ArrayList is trimmed accordingly.\""
   ]
  },
  {
   "cell_type": "code",
   "execution_count": 37,
   "id": "fe55484f",
   "metadata": {},
   "outputs": [],
   "source": [
    "lenth=remove_len(text)"
   ]
  },
  {
   "cell_type": "code",
   "execution_count": 38,
   "id": "dd258895",
   "metadata": {},
   "outputs": [
    {
     "data": {
      "text/plain": [
       "' following example creates  ArrayList  a capacity   elements. 4 elements   added   ArrayList   ArrayList  trimmed accordingly.'"
      ]
     },
     "execution_count": 38,
     "metadata": {},
     "output_type": "execute_result"
    }
   ],
   "source": [
    "lenth"
   ]
  },
  {
   "cell_type": "code",
   "execution_count": null,
   "id": "a7897eca",
   "metadata": {},
   "outputs": [],
   "source": []
  },
  {
   "cell_type": "code",
   "execution_count": null,
   "id": "aa8b5031",
   "metadata": {},
   "outputs": [],
   "source": []
  },
  {
   "cell_type": "code",
   "execution_count": null,
   "id": "13aac68e",
   "metadata": {},
   "outputs": [],
   "source": []
  }
 ],
 "metadata": {
  "kernelspec": {
   "display_name": "Python 3 (ipykernel)",
   "language": "python",
   "name": "python3"
  },
  "language_info": {
   "codemirror_mode": {
    "name": "ipython",
    "version": 3
   },
   "file_extension": ".py",
   "mimetype": "text/x-python",
   "name": "python",
   "nbconvert_exporter": "python",
   "pygments_lexer": "ipython3",
   "version": "3.10.9"
  }
 },
 "nbformat": 4,
 "nbformat_minor": 5
}
